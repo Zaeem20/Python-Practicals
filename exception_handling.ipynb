{
 "cells": [
  {
   "attachments": {},
   "cell_type": "markdown",
   "metadata": {},
   "source": [
    "#### Exception handling in python"
   ]
  },
  {
   "cell_type": "code",
   "execution_count": 1,
   "metadata": {},
   "outputs": [
    {
     "name": "stdout",
     "output_type": "stream",
     "text": [
      "Can't divide number by 0\n",
      "Thank You\n"
     ]
    }
   ],
   "source": [
    "try:\n",
    "    a = 1\n",
    "    b = 0\n",
    "    print(f'The division will be {a/b}')\n",
    "\n",
    "except ZeroDivisionError:\n",
    "    print(\"Can't divide number by 0\")\n",
    "except ValueError:\n",
    "    print('You must enter integer value')\n",
    "finally:\n",
    "    print('Thank You')"
   ]
  },
  {
   "attachments": {},
   "cell_type": "markdown",
   "metadata": {},
   "source": [
    "#### Handling Index out of Bound Error"
   ]
  },
  {
   "cell_type": "code",
   "execution_count": 6,
   "metadata": {},
   "outputs": [
    {
     "name": "stdout",
     "output_type": "stream",
     "text": [
      "Index of out of range\n",
      "Thank You\n"
     ]
    }
   ],
   "source": [
    "try:\n",
    "    even_numbers = [2,4,6,8,10]\n",
    "    print('Accessing 7th index of list:', even_numbers[7])\n",
    "except IndexError:\n",
    "    print(\"Index of out of range\")\n",
    "else:\n",
    "    print('No error caught in code')\n",
    "finally:\n",
    "    print(\"Thank You\")"
   ]
  },
  {
   "attachments": {},
   "cell_type": "markdown",
   "metadata": {},
   "source": [
    "#### Handling AssertionError\n"
   ]
  },
  {
   "cell_type": "code",
   "execution_count": 7,
   "metadata": {},
   "outputs": [
    {
     "name": "stdout",
     "output_type": "stream",
     "text": [
      "Not an Even number\n"
     ]
    }
   ],
   "source": [
    "try:\n",
    "    num = int(input('Enter a number: '))\n",
    "    assert num % 2 == 0\n",
    "    print(1/num)\n",
    "except AssertionError:\n",
    "    print('Not an Even number')\n",
    "except ZeroDivisionError:\n",
    "    print(\"Number must be > 0\")"
   ]
  },
  {
   "attachments": {},
   "cell_type": "markdown",
   "metadata": {},
   "source": [
    "#### making UserDefined Error"
   ]
  },
  {
   "cell_type": "code",
   "execution_count": 5,
   "metadata": {},
   "outputs": [
    {
     "name": "stdout",
     "output_type": "stream",
     "text": [
      "Dimaag Nahi hai kya\n"
     ]
    }
   ],
   "source": [
    "class BrainError(Exception):\n",
    "    def __init__(self, message) -> None:\n",
    "        self.message = message\n",
    "try:\n",
    "    inp = int(input('Tell me answer of 12-5+6:'))  # inp=1\n",
    "    if inp != 12-5+6:\n",
    "        raise BrainError('Dimaag Nahi hai kya')\n",
    "    else:\n",
    "        print(\"Good Boy\")\n",
    "\n",
    "except BrainError as brain:\n",
    "    print(brain.message)"
   ]
  }
 ],
 "metadata": {
  "kernelspec": {
   "display_name": "Python 3",
   "language": "python",
   "name": "python3"
  },
  "language_info": {
   "codemirror_mode": {
    "name": "ipython",
    "version": 3
   },
   "file_extension": ".py",
   "mimetype": "text/x-python",
   "name": "python",
   "nbconvert_exporter": "python",
   "pygments_lexer": "ipython3",
   "version": "3.9.10"
  },
  "orig_nbformat": 4,
  "vscode": {
   "interpreter": {
    "hash": "26de051ba29f2982a8de78e945f0abaf191376122a1563185a90213a26c5da77"
   }
  }
 },
 "nbformat": 4,
 "nbformat_minor": 2
}
