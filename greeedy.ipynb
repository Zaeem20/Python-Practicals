{
 "cells": [
  {
   "attachments": {},
   "cell_type": "markdown",
   "id": "c42dd2ff",
   "metadata": {},
   "source": [
    "#### Coin Change Problem with Greedy algorithm"
   ]
  },
  {
   "cell_type": "code",
   "execution_count": 8,
   "id": "f9de4e12",
   "metadata": {},
   "outputs": [
    {
     "name": "stdout",
     "output_type": "stream",
     "text": [
      "Coins Will be {1: 1, 2: 1, 5: 3}\n",
      "Coded By Zubiya Ansari; Roll no: 425\n"
     ]
    }
   ],
   "source": [
    "def coin_change(denoms, amount):\n",
    "    num_coins = [0] * len(denoms)\n",
    "    for i in range(len(denoms)-1,-1,-1):\n",
    "        while denoms[i] <= amount:\n",
    "            amount -= denoms[i]\n",
    "            num_coins[i]+=1\n",
    "            \n",
    "    return {k:v for (k,v) in list(zip(denoms,num_coins))}\n",
    "\n",
    "available_coins = [1,2,5]\n",
    "total = 18\n",
    "print(\"Coins Will be\",coin_change(available_coins, total))\n",
    "print(\"Coded By Zubiya Ansari; Roll no: 423\")"
   ]
  },
  {
   "cell_type": "code",
   "execution_count": null,
   "id": "14c37a0e",
   "metadata": {},
   "outputs": [],
   "source": []
  }
 ],
 "metadata": {
  "kernelspec": {
   "display_name": "Python 3 (ipykernel)",
   "language": "python",
   "name": "python3"
  },
  "language_info": {
   "codemirror_mode": {
    "name": "ipython",
    "version": 3
   },
   "file_extension": ".py",
   "mimetype": "text/x-python",
   "name": "python",
   "nbconvert_exporter": "python",
   "pygments_lexer": "ipython3",
   "version": "3.9.10"
  }
 },
 "nbformat": 4,
 "nbformat_minor": 5
}
