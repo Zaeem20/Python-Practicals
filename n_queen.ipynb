{
 "cells": [
  {
   "attachments": {},
   "cell_type": "markdown",
   "metadata": {},
   "source": [
    "### Implementation of N-Queen problem in Python (Backtracking)"
   ]
  },
  {
   "attachments": {},
   "cell_type": "markdown",
   "metadata": {},
   "source": [
    "1). Printing Board."
   ]
  },
  {
   "cell_type": "code",
   "execution_count": 2,
   "metadata": {},
   "outputs": [],
   "source": [
    "import numpy as np\n",
    "\n",
    "\n",
    "N = 4\n",
    "def printBoard(board):\n",
    "    for i in range(N):\n",
    "        for j in range(N):\n",
    "            print(board[i][j], end=' ')\n",
    "        print('\\n')"
   ]
  },
  {
   "attachments": {},
   "cell_type": "markdown",
   "metadata": {},
   "source": [
    "2). Checking For Safe Move."
   ]
  },
  {
   "cell_type": "code",
   "execution_count": 3,
   "metadata": {},
   "outputs": [],
   "source": [
    "def is_safe(board, row: int, col: int):\n",
    "    for i in range(col):\n",
    "        if board[row][i] == 1:  # for rows, column\n",
    "            return False\n",
    "    \n",
    "    for i,j in zip(range(row, -1, -1), range(col, -1, -1)):  # for right diagonal\n",
    "        if board[i][j] == 1:\n",
    "            return False\n",
    "\n",
    "    for i,j in zip(range(row, N, -1), range(col, -1, -1)):   # for left diagonal\n",
    "        if board[i][j] == 1:\n",
    "            return False\n",
    "    return True"
   ]
  },
  {
   "attachments": {},
   "cell_type": "markdown",
   "metadata": {},
   "source": [
    "Solving the Board with the help of safe moves."
   ]
  },
  {
   "cell_type": "code",
   "execution_count": 4,
   "metadata": {},
   "outputs": [],
   "source": [
    "def solve(board, col):\n",
    "    if col >= N:\n",
    "        return True\n",
    "    for i in range(N):\n",
    "        if is_safe(board, i ,col):\n",
    "            board[i][col] = 1\n",
    "            if solve(board, col+1):\n",
    "                return True\n",
    "            board[i][col] = 0\n",
    "    return False"
   ]
  },
  {
   "cell_type": "code",
   "execution_count": 5,
   "metadata": {},
   "outputs": [
    {
     "name": "stdout",
     "output_type": "stream",
     "text": [
      "0 0 1 0 \n",
      "\n",
      "1 0 0 0 \n",
      "\n",
      "0 0 0 1 \n",
      "\n",
      "0 1 0 0 \n",
      "\n"
     ]
    }
   ],
   "source": [
    "def solveNQ():\n",
    "    board = np.zeros((N,N), dtype = 'I')\n",
    "    if not solve(board, 0):\n",
    "        print('Solution Doesn\\'t exist')\n",
    "        return False\n",
    "\n",
    "    printBoard(board)\n",
    "    return True\n",
    "\n",
    "if __name__ == '__main__':\n",
    "    print(\"Safest Positions are:\")\n",
    "    solveNQ()    \n",
    "\n",
    "\n",
    "                    \n"
   ]
  },
  {
   "cell_type": "code",
   "execution_count": null,
   "metadata": {},
   "outputs": [],
   "source": []
  }
 ],
 "metadata": {
  "kernelspec": {
   "display_name": "Python 3",
   "language": "python",
   "name": "python3"
  },
  "language_info": {
   "codemirror_mode": {
    "name": "ipython",
    "version": 3
   },
   "file_extension": ".py",
   "mimetype": "text/x-python",
   "name": "python",
   "nbconvert_exporter": "python",
   "pygments_lexer": "ipython3",
   "version": "3.9.10"
  },
  "orig_nbformat": 4,
  "vscode": {
   "interpreter": {
    "hash": "26de051ba29f2982a8de78e945f0abaf191376122a1563185a90213a26c5da77"
   }
  }
 },
 "nbformat": 4,
 "nbformat_minor": 2
}
