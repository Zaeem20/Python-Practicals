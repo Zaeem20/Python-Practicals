{
 "cells": [
  {
   "attachments": {},
   "cell_type": "markdown",
   "metadata": {},
   "source": [
    "Tkinter GUI practical"
   ]
  },
  {
   "cell_type": "code",
   "execution_count": 5,
   "metadata": {},
   "outputs": [],
   "source": [
    "import tkinter as tk\n",
    "from tkinter import messagebox\n",
    "\n",
    "\n",
    "root = tk.Tk(__name__)\n",
    "\n",
    "root.title('Main window')\n",
    "root.geometry('400x400')\n",
    "\n",
    "tk.Label(root, text='Phone').grid(row=0)\n",
    "tk.Label(root, text='Email').grid(row=1)\n",
    "\n",
    "tk.Entry(root).grid(row=0, column=1)\n",
    "tk.Entry(root).grid(row=1, column=1)\n",
    "\n",
    "def greet():\n",
    "    messagebox.showinfo('Greetings','hello world')\n",
    "\n",
    "button = tk.Button(root, text='submit', command=greet).grid(row=2, column=1)\n",
    "\n",
    "root.mainloop()"
   ]
  },
  {
   "cell_type": "code",
   "execution_count": 6,
   "metadata": {},
   "outputs": [],
   "source": [
    "import tkinter as tk\n",
    "\n",
    "root = tk.Tk(__name__)\n",
    "\n",
    "root.title('Main window')\n",
    "root.geometry('400x400')\n",
    "\n",
    "tk.Label(root, text='Which programming language do you use daily.').pack()\n",
    "tk.Radiobutton(root, text='Python', value=1).pack()\n",
    "tk.Radiobutton(root, text='C++', value=2).pack()\n",
    "tk.Radiobutton(root, text='Java', value=3).pack()\n",
    "\n",
    "root.mainloop()"
   ]
  },
  {
   "cell_type": "code",
   "execution_count": 8,
   "metadata": {},
   "outputs": [],
   "source": [
    "import tkinter as tk\n",
    "from tkinter import messagebox\n",
    "\n",
    "\n",
    "root = tk.Tk(__name__)\n",
    "\n",
    "root.title('Main window')\n",
    "root.geometry('400x100')\n",
    "\n",
    "def greet():\n",
    "    messagebox.showinfo('Greetings','hello world')\n",
    "\n",
    "button = tk.Button(root, text='Click me', command=greet).place(x=20, y=20)\n",
    "\n",
    "root.mainloop()"
   ]
  },
  {
   "cell_type": "code",
   "execution_count": null,
   "metadata": {},
   "outputs": [],
   "source": []
  }
 ],
 "metadata": {
  "kernelspec": {
   "display_name": "practicals",
   "language": "python",
   "name": "python3"
  },
  "language_info": {
   "codemirror_mode": {
    "name": "ipython",
    "version": 3
   },
   "file_extension": ".py",
   "mimetype": "text/x-python",
   "name": "python",
   "nbconvert_exporter": "python",
   "pygments_lexer": "ipython3",
   "version": "3.9.10"
  },
  "orig_nbformat": 4
 },
 "nbformat": 4,
 "nbformat_minor": 2
}
