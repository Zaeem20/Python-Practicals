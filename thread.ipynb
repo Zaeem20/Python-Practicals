{
 "cells": [
  {
   "attachments": {},
   "cell_type": "markdown",
   "metadata": {},
   "source": [
    "#### Threading in Python:\n",
    "\n",
    "Theading singular for 'MultiThreading' is a model for program execution which allows program to run concurrently<br>\n",
    "with the help of multiple threads for execution, which minimize execution time of any 'Blocking IO'.<br> by using more resource\n",
    "in a effective and efficient manner."
   ]
  },
  {
   "cell_type": "code",
   "execution_count": 2,
   "metadata": {},
   "outputs": [
    {
     "name": "stdout",
     "output_type": "stream",
     "text": [
      "Using Threading:\n",
      "Worker 1 is Starting:\n",
      "\n",
      "Worker 1 Counting: 1\n",
      "Worker 2 is Starting:\n",
      "\n",
      "Worker 2 Counting: 1\n",
      "\n",
      "Worker 1 Counting: 2\n",
      "Worker 2 Counting: 2\n",
      "\n",
      "\n",
      "Worker 1 Counting: 3\n",
      "Worker 2 Counting: 3\n",
      "\n",
      "\n",
      "Worker 1 Counting: 4\n",
      "Worker 2 Counting: 4\n",
      "\n",
      "\n",
      "Worker 2 Counting: 5\n",
      "\n",
      "Worker 1 Counting: 5\n",
      "\n",
      "Worker 2 Counting: 6\n",
      "Worker 1 Counting: 6\n",
      "\n",
      "\n",
      "Worker 1 Counting: 7\n",
      "Worker 2 Counting: 7\n",
      "\n",
      "\n",
      "Worker 1 Counting: 8\n",
      "Worker 2 Counting: 8\n",
      "\n",
      "\n",
      "Worker 1 Counting: 9\n",
      "Worker 2 Counting: 9\n",
      "\n",
      "\n",
      "Worker 1 Counting: 10\n",
      "Worker 2 Counting: 10\n",
      "\n",
      "Worker 1 -DoneWorker 2 -Done\n",
      "\n"
     ]
    }
   ],
   "source": [
    "import threading, time\n",
    "\n",
    "def blocking(num: int):\n",
    "    print(f\"Worker {num} is Starting:\")\n",
    "    for i in range(1, 11):   # Running 10 times\n",
    "        print(f'\\nWorker {num} Counting: {i}')\n",
    "        time.sleep(1)\n",
    "    print(f\"Worker {num} -Done\")\n",
    "\n",
    "def using_threading():\n",
    "    threads = []\n",
    "    for i in range(1, 3):\n",
    "        threads.append(threading.Thread(target=blocking, args=(i,)))\n",
    "    \n",
    "    for i in range(len(threads)):\n",
    "        threads[i].start()\n",
    "    \n",
    "    for i in range(len(threads)):\n",
    "        threads[i].join()\n",
    "    \n",
    "if __name__ == '__main__':\n",
    "    print(\"Using Threading:\")\n",
    "    using_threading()\n"
   ]
  },
  {
   "attachments": {},
   "cell_type": "markdown",
   "metadata": {},
   "source": [
    "#### Square and Cube with/without Threading"
   ]
  },
  {
   "cell_type": "code",
   "execution_count": 3,
   "metadata": {},
   "outputs": [
    {
     "name": "stdout",
     "output_type": "stream",
     "text": [
      "\n",
      "Square of Numbers\n",
      "\n",
      "Square of num: 25\n",
      "\n",
      "Square of num: 16\n",
      "\n",
      "Square of num: 36\n",
      "\n",
      "Square of num: 7921\n",
      "\n",
      "Square of num: 16\n",
      "\n",
      "Cube of Numbers\n",
      "\n",
      "Cube of Numbers 125\n",
      "\n",
      "Cube of Numbers 64\n",
      "\n",
      "Cube of Numbers 216\n",
      "\n",
      "Cube of Numbers 704969\n",
      "\n",
      "Cube of Numbers 64\n",
      "Time Taken by Program: 5.073839902877808\n"
     ]
    }
   ],
   "source": [
    "import threading, time\n",
    "\n",
    "def square(arr):\n",
    "    print('\\nSquare of Numbers')\n",
    "    for i in arr:\n",
    "        time.sleep(0.5)\n",
    "        print('\\nSquare of num:', i**2)\n",
    "\n",
    "def cube(arr):\n",
    "    print('\\nCube of Numbers')\n",
    "    for i in arr:\n",
    "        time.sleep(0.5)\n",
    "        print(\"\\nCube of Numbers\", i**3)\n",
    "\n",
    "start = time.time()\n",
    "arr = [5,4,6,89,4]\n",
    "square(arr)\n",
    "cube(arr)\n",
    "\n",
    "print(\"Time Taken by Program:\", time.time() - start)        "
   ]
  },
  {
   "cell_type": "code",
   "execution_count": 4,
   "metadata": {},
   "outputs": [
    {
     "name": "stdout",
     "output_type": "stream",
     "text": [
      "\n",
      "Square of Numbers\n",
      "\n",
      "Cube of Numbers\n",
      "\n",
      "Square of num:\n",
      "Cube of Numbers 125\n",
      " 25\n",
      "\n",
      "Square of num:\n",
      "Cube of Numbers 64\n",
      " 16\n",
      "\n",
      "Square of num:\n",
      "Cube of Numbers 216\n",
      " 36\n",
      "\n",
      "Square of num:\n",
      "Cube of Numbers 704969\n",
      " 7921\n",
      "\n",
      "Square of num:\n",
      "Cube of Numbers 64\n",
      " 16\n"
     ]
    }
   ],
   "source": [
    "def using_thread():\n",
    "    thread_1 = threading.Thread(target=square, args=(arr,))\n",
    "    thread_2 = threading.Thread(target=cube, args=(arr,))\n",
    "\n",
    "    thread_1.start()\n",
    "    thread_2.start()\n",
    "\n",
    "    thread_1.join()\n",
    "    thread_2.join()\n",
    "\n",
    "using_thread()"
   ]
  }
 ],
 "metadata": {
  "kernelspec": {
   "display_name": "Python 3",
   "language": "python",
   "name": "python3"
  },
  "language_info": {
   "codemirror_mode": {
    "name": "ipython",
    "version": 3
   },
   "file_extension": ".py",
   "mimetype": "text/x-python",
   "name": "python",
   "nbconvert_exporter": "python",
   "pygments_lexer": "ipython3",
   "version": "3.9.10"
  },
  "orig_nbformat": 4,
  "vscode": {
   "interpreter": {
    "hash": "26de051ba29f2982a8de78e945f0abaf191376122a1563185a90213a26c5da77"
   }
  }
 },
 "nbformat": 4,
 "nbformat_minor": 2
}
